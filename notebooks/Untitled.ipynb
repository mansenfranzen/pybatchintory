{
 "cells": [
  {
   "cell_type": "code",
   "execution_count": 1,
   "metadata": {},
   "outputs": [],
   "source": [
    "from pybatchintory import configure\n",
    "from pybatchintory import config as cfg\n",
    "from pybatchintory import sql\n",
    "from pybatchintory import main"
   ]
  },
  {
   "cell_type": "code",
   "execution_count": 19,
   "metadata": {},
   "outputs": [],
   "source": [
    "import sqlite3"
   ]
  },
  {
   "cell_type": "code",
   "execution_count": 22,
   "metadata": {},
   "outputs": [
    {
     "data": {
      "text/plain": [
       "(3, 37, 2)"
      ]
     },
     "execution_count": 22,
     "metadata": {},
     "output_type": "execute_result"
    }
   ],
   "source": [
    "sqlite3.sqlite_version_info"
   ]
  },
  {
   "cell_type": "code",
   "execution_count": 14,
   "metadata": {},
   "outputs": [],
   "source": [
    "from pydantic import BaseModel\n",
    "\n",
    "class A(BaseModel):\n",
    "    a: str\n",
    "    b: int\n",
    "    c: int = 1"
   ]
  },
  {
   "cell_type": "code",
   "execution_count": 15,
   "metadata": {},
   "outputs": [],
   "source": [
    "a = A(a=\"asd\", b=3)"
   ]
  },
  {
   "cell_type": "code",
   "execution_count": 17,
   "metadata": {},
   "outputs": [
    {
     "data": {
      "text/plain": [
       "{'a': 'asd', 'b': 3, 'c': 1}"
      ]
     },
     "execution_count": 17,
     "metadata": {},
     "output_type": "execute_result"
    }
   ],
   "source": [
    "a.dict()"
   ]
  },
  {
   "cell_type": "code",
   "execution_count": 2,
   "metadata": {},
   "outputs": [],
   "source": [
    "import sqlalchemy as sa\n",
    "import pandas as pd"
   ]
  },
  {
   "cell_type": "code",
   "execution_count": 3,
   "metadata": {},
   "outputs": [],
   "source": [
    "engine_inventory = sa.create_engine('sqlite:///inventory.db')\n",
    "engine_meta = sa.create_engine('sqlite:///meta.db')"
   ]
  },
  {
   "cell_type": "code",
   "execution_count": 4,
   "metadata": {},
   "outputs": [],
   "source": [
    "with engine_inventory.begin() as conn:\n",
    "    conn.execute(sa.text(\"attach 'test_inventory.db' as test_pybatchintory\"))\n",
    "    \n",
    "with engine_meta.begin() as conn:\n",
    "    conn.execute(sa.text(\"attach 'test_meta.db' as test_pybatchintory\"))"
   ]
  },
  {
   "cell_type": "code",
   "execution_count": 5,
   "metadata": {},
   "outputs": [],
   "source": [
    "metadata = sa.MetaData()\n",
    "\n",
    "sql.models.generate_inventory_table(\n",
    "    name=\"test_inventory\",\n",
    "    metadata=metadata,\n",
    "    schema=\"test_pybatchintory\"\n",
    ")\n",
    "\n",
    "metadata.create_all(bind=engine_inventory, checkfirst=True)"
   ]
  },
  {
   "cell_type": "code",
   "execution_count": 6,
   "metadata": {},
   "outputs": [
    {
     "data": {
      "text/plain": [
       "10"
      ]
     },
     "execution_count": 6,
     "metadata": {},
     "output_type": "execute_result"
    }
   ],
   "source": [
    "df_meta = pd.DataFrame({\n",
    "    \"id\":range(10),\n",
    "    \"file\":[f\"f{x}\" for x in range(10)],\n",
    "    \"size\":range(0, 20, 2)\n",
    "})\n",
    "\n",
    "df_meta.to_sql(\"test_meta\", con=engine_meta, schema=\"test_pybatchintory\", if_exists=\"replace\", index=False)"
   ]
  },
  {
   "cell_type": "code",
   "execution_count": 8,
   "metadata": {},
   "outputs": [
    {
     "data": {
      "text/plain": [
       "2"
      ]
     },
     "execution_count": 8,
     "metadata": {},
     "output_type": "execute_result"
    }
   ],
   "source": [
    "df_inventory = pd.DataFrame({\n",
    "    \"id\": [1, 2],\n",
    "    \"meta_table\": [\"test_meta\", \"test_meta\"],\n",
    "    \"job\": [\"j1\", \"j2\"],\n",
    "    \"job_identifier\": [\"j1_1\", \"j2_1\"],\n",
    "    \"job_result\": [\"{file: 1}\", \"{file: 2}\"],\n",
    "    \"processing_start\": [pd.Timestamp(\"2023-01-01 10:00:00\"),\n",
    "                         pd.Timestamp(\"2023-01-01 12:00:00\")],\n",
    "    \"processing_end\": [pd.Timestamp(\"2023-01-01 11:00:00\"),\n",
    "                       pd.Timestamp(\"2023-01-01 13:00:00\")],\n",
    "    \"meta_id_start\": [0, 5],\n",
    "    \"meta_id_end\": [4, 8],\n",
    "    \"weight\": [8, 23],\n",
    "    \"count\": [5, 4],\n",
    "    \"attempt\": [1, 1],\n",
    "    \"status\": [\"succeeded\", \"running\"]\n",
    "})\n",
    "\n",
    "df_inventory.to_sql(\"test_inventory\", con=engine_inventory, if_exists=\"append\", schema=\"test_pybatchintory\", index=False)"
   ]
  },
  {
   "cell_type": "code",
   "execution_count": 9,
   "metadata": {},
   "outputs": [],
   "source": [
    "configure(\n",
    "    settings=dict(\n",
    "        INVENTORY_CONN=\"sqlite:///inventory.db\",\n",
    "        INVENTORY_CONN_SCHEMA=\"test_pybatchintory\",\n",
    "        INVENTORY_TABLE_NAME=\"test_inventory\",\n",
    "        META_CONN=\"sqlite:///meta.db\",\n",
    "        META_CONN_SCHEMA=\"test_pybatchintory\",\n",
    "        META_TABLE_NAME=\"test_meta\",\n",
    "        META_COLS={\"uid\": \"id\", \"file\": \"file\", \"weight\": \"size\"},\n",
    "    ),\n",
    "    initialize_db=False\n",
    ")\n",
    "\n",
    "sql.db = sql.initialize(engine_inventory=engine_inventory,\n",
    "                        engine_meta=engine_meta)"
   ]
  },
  {
   "cell_type": "code",
   "execution_count": 10,
   "metadata": {},
   "outputs": [],
   "source": [
    "t_inventory = sql.db.table_inventory\n",
    "\n",
    "values = {\"job\": \"j3\",\n",
    "          \"meta_table\": \"test_meta\",\n",
    "          \"meta_id_start\": 3,\n",
    "          \"meta_id_end\": 7,\n",
    "          \"count\": 5}\n",
    "\n",
    "stmt = sa.insert(t_inventory).values(values)"
   ]
  },
  {
   "cell_type": "code",
   "execution_count": 11,
   "metadata": {},
   "outputs": [],
   "source": [
    "with sql.db.engine_inventory.connect() as conn:\n",
    "    res = conn.execute(stmt)\n",
    "    conn.commit()"
   ]
  },
  {
   "cell_type": "code",
   "execution_count": null,
   "metadata": {},
   "outputs": [],
   "source": []
  },
  {
   "cell_type": "code",
   "execution_count": 12,
   "metadata": {},
   "outputs": [
    {
     "data": {
      "text/plain": [
       "3"
      ]
     },
     "execution_count": 12,
     "metadata": {},
     "output_type": "execute_result"
    }
   ],
   "source": [
    "res.inserted_primary_key[0]"
   ]
  },
  {
   "cell_type": "code",
   "execution_count": null,
   "metadata": {},
   "outputs": [],
   "source": [
    "res."
   ]
  },
  {
   "cell_type": "code",
   "execution_count": null,
   "metadata": {},
   "outputs": [],
   "source": []
  },
  {
   "cell_type": "code",
   "execution_count": 9,
   "metadata": {},
   "outputs": [
    {
     "name": "stderr",
     "output_type": "stream",
     "text": [
      "max_meta_id_from_inventory: 4\n",
      "max_meta_id_from_meta: 9\n",
      "User provided `id_min` (12) is greater than max id from meta table (9).\n"
     ]
    }
   ],
   "source": [
    "main.acquire_batch(job=\"j1\", id_min=12, batch_count=2, batch_weight=1000)"
   ]
  },
  {
   "cell_type": "code",
   "execution_count": 6,
   "metadata": {},
   "outputs": [
    {
     "data": {
      "text/plain": [
       "ItemIdRange(id_min=0, id_max=1, count=2, weight=2.0)"
      ]
     },
     "execution_count": 6,
     "metadata": {},
     "output_type": "execute_result"
    }
   ],
   "source": [
    "sql.crud.get_meta_id_range_from_meta(id_min=0, weight=6, count=2)"
   ]
  },
  {
   "cell_type": "code",
   "execution_count": null,
   "metadata": {},
   "outputs": [],
   "source": []
  },
  {
   "cell_type": "code",
   "execution_count": null,
   "metadata": {},
   "outputs": [],
   "source": []
  },
  {
   "cell_type": "code",
   "execution_count": 8,
   "metadata": {},
   "outputs": [
    {
     "data": {
      "text/plain": [
       "4"
      ]
     },
     "execution_count": 8,
     "metadata": {},
     "output_type": "execute_result"
    }
   ],
   "source": [
    "sql.crud.get_max_meta_id_from_backend(\"test_meta\", \"j1\")"
   ]
  },
  {
   "cell_type": "code",
   "execution_count": 11,
   "metadata": {},
   "outputs": [
    {
     "data": {
      "text/plain": [
       "ItemIdRange(id_min=5, id_max=9, weight=5.0)"
      ]
     },
     "execution_count": 11,
     "metadata": {},
     "output_type": "execute_result"
    }
   ],
   "source": [
    "main.get_meta_id_range(meta_table=\"test_meta\", job=\"j1\")"
   ]
  },
  {
   "cell_type": "code",
   "execution_count": null,
   "metadata": {},
   "outputs": [],
   "source": []
  },
  {
   "cell_type": "code",
   "execution_count": null,
   "metadata": {},
   "outputs": [],
   "source": []
  },
  {
   "cell_type": "code",
   "execution_count": null,
   "metadata": {},
   "outputs": [],
   "source": []
  },
  {
   "cell_type": "code",
   "execution_count": 2,
   "metadata": {},
   "outputs": [],
   "source": [
    "import pandas as pd\n",
    "\n",
    "from sqlalchemy import create_engine\n",
    "\n",
    "from sqlalchemy import select, func, and_, column\n",
    "from typing import Optional\n",
    "from pydantic import BaseModel"
   ]
  },
  {
   "cell_type": "code",
   "execution_count": 3,
   "metadata": {},
   "outputs": [],
   "source": [
    "class ItemIdRange(BaseModel):\n",
    "    \"\"\"Resembles the computed item id range which \n",
    "    constitutes a batch of data items.\n",
    "    \n",
    "    \"\"\"\n",
    "    \n",
    "    id_min: int\n",
    "    id_max: int\n",
    "    weight: float\n",
    "        \n",
    "    class Config:\n",
    "        orm_mode=True"
   ]
  },
  {
   "cell_type": "code",
   "execution_count": 5,
   "metadata": {},
   "outputs": [],
   "source": [
    "def get_max_item_id(job: str, conn) -> int:\n",
    "    \"\"\"Given a job identifier, retrieve the highest item id that\n",
    "    has been previously processed.\n",
    "    \n",
    "    \"\"\"\n",
    "    \n",
    "    inventory = sql.db.table_inventory\n",
    "\n",
    "    max_val = func.max(inventory.c.range_id_end)\n",
    "    value_or_zero = func.coalesce(max_val, 0)\n",
    "    where = inventory.c.job_identifier == job\n",
    "\n",
    "    stmt = select(value_or_zero).where(where)\n",
    "    return conn.execute(stmt).scalar()"
   ]
  },
  {
   "cell_type": "code",
   "execution_count": 3,
   "metadata": {},
   "outputs": [
    {
     "ename": "NameError",
     "evalue": "name 'get_max_item_id' is not defined",
     "output_type": "error",
     "traceback": [
      "\u001b[1;31m---------------------------------------------------------------------------\u001b[0m",
      "\u001b[1;31mNameError\u001b[0m                                 Traceback (most recent call last)",
      "Cell \u001b[1;32mIn[3], line 2\u001b[0m\n\u001b[0;32m      1\u001b[0m \u001b[38;5;28;01mwith\u001b[39;00m sql\u001b[38;5;241m.\u001b[39mdb\u001b[38;5;241m.\u001b[39mengine_backend\u001b[38;5;241m.\u001b[39mconnect() \u001b[38;5;28;01mas\u001b[39;00m conn:\n\u001b[1;32m----> 2\u001b[0m     \u001b[38;5;28mprint\u001b[39m(\u001b[43mget_max_item_id\u001b[49m(\u001b[38;5;124m\"\u001b[39m\u001b[38;5;124masd\u001b[39m\u001b[38;5;124m\"\u001b[39m, conn))\n",
      "\u001b[1;31mNameError\u001b[0m: name 'get_max_item_id' is not defined"
     ]
    }
   ],
   "source": [
    "with sql.db.engine_backend.connect() as conn:\n",
    "    print(get_max_item_id(\"asd\", conn))"
   ]
  },
  {
   "cell_type": "code",
   "execution_count": 4,
   "metadata": {},
   "outputs": [
    {
     "data": {
      "text/plain": [
       "<sqlalchemy.engine.base.Connection at 0x25a5d1aa1a0>"
      ]
     },
     "execution_count": 4,
     "metadata": {},
     "output_type": "execute_result"
    }
   ],
   "source": [
    "conn"
   ]
  },
  {
   "cell_type": "code",
   "execution_count": 23,
   "metadata": {},
   "outputs": [],
   "source": [
    "def get_id_range_from_meta(\n",
    "    conn,\n",
    "    range_id_min: int = 0,\n",
    "    range_id_max: Optional[int] = None,\n",
    "    weight: Optional[int] = None,\n",
    "):\n",
    "    \"\"\"Compute the min and max id values given provided parameters\n",
    "    to constitute a batch of data items.\n",
    "    \n",
    "    \"\"\"\n",
    "\n",
    "    if cfg.settings.META_COLS.weight and weight:\n",
    "        item_id_range = _get_item_id_range_per_weight(\n",
    "            conn=conn,\n",
    "            range_id_min=range_id_min,\n",
    "            range_id_max=range_id_max,\n",
    "            weight=weight,\n",
    "        )\n",
    "        \n",
    "    else:\n",
    "        item_id_range = _get_item_id_range_per_row_count(\n",
    "            conn=conn,\n",
    "            range_id_min=range_id_min,\n",
    "            range_id_max=range_id_max,\n",
    "            weight=weight,\n",
    "        )\n",
    "\n",
    "    return item_id_range\n",
    "\n",
    "\n",
    "def _get_item_id_range_per_weight(\n",
    "    conn,\n",
    "    range_id_min: int,\n",
    "    range_id_max: Optional[int] = None,\n",
    "    weight: Optional[int] = None,\n",
    "):\n",
    "    \n",
    "    t_meta = sql.db.table_meta\n",
    "    c_id = t_meta.c[cfg.settings.META_COLS.uid]\n",
    "    c_weight = t_meta.c[cfg.settings.META_COLS.weight]\n",
    "\n",
    "    cumsum = func.sum(c_weight).over(order_by=c_id).label(\"cumsum\")\n",
    "    where_clauses = [c_id >= range_id_min]\n",
    "    if range_id_max:\n",
    "        where.append(c_id < range_id_max)\n",
    "    where = and_(*where_clauses)\n",
    "\n",
    "    cte = select(c_id.label(\"id\"), cumsum).where(where).order_by(c_id).cte(\"cumsum\")\n",
    "\n",
    "    main_query = (\n",
    "        select(\n",
    "            func.min(cte.c.id).label(\"id_min\"),\n",
    "            func.max(cte.c.id).label(\"id_max\"),\n",
    "            func.max(cte.c.cumsum).label(\"weight\"),\n",
    "        )\n",
    "        .where(cte.c.cumsum <= weight)\n",
    "        .select_from(cte)\n",
    "    )\n",
    "\n",
    "    return ItemIdRange.from_orm(conn.execute(main_query).fetchone())\n",
    "\n",
    "\n",
    "def _get_item_id_range_per_row_count(\n",
    "    conn,\n",
    "    range_id_min: int,\n",
    "    range_id_max: Optional[int] = None,\n",
    "    weight: Optional[int] = None,\n",
    "):\n",
    "    rank = func.rank().over(order_by=items.c.id).label(\"rank\")\n",
    "    where_clauses = [items.c.id >= range_id_min]\n",
    "    if range_id_max:\n",
    "        where.append(items.c.id < range_id_max)\n",
    "    where = and_(*where_clauses)\n",
    "\n",
    "    cte = select(items.c.id, rank).where(where).order_by(items.c.id).cte(\"rank\")\n",
    "\n",
    "    main_query = select(\n",
    "            func.min(cte.c.id).label(\"id_min\"),\n",
    "            func.max(cte.c.id).label(\"id_max\"),\n",
    "            func.count().label(\"weight\"),\n",
    "        )\n",
    "    \n",
    "    if weight:\n",
    "        main_query = main_query.where(cte.c.rank <= weight)\n",
    "    \n",
    "    main_query = main_query.select_from(cte)\n",
    "    \n",
    "    return ItemIdRange.from_orm(conn.execute(main_query).fetchone())"
   ]
  },
  {
   "cell_type": "code",
   "execution_count": 24,
   "metadata": {},
   "outputs": [
    {
     "name": "stdout",
     "output_type": "stream",
     "text": [
      "id_min=0 id_max=3 weight=6.0\n"
     ]
    }
   ],
   "source": [
    "with sql.db.engine_meta.connect() as conn:\n",
    "    print(get_item_id_range(conn, weight=6))"
   ]
  },
  {
   "cell_type": "code",
   "execution_count": 5,
   "metadata": {},
   "outputs": [],
   "source": [
    "engine_backend = create_engine('sqlite:///backend.db')\n",
    "engine_items = create_engine('sqlite:///meta.db')"
   ]
  },
  {
   "cell_type": "code",
   "execution_count": 9,
   "metadata": {},
   "outputs": [
    {
     "ename": "NameError",
     "evalue": "name 'pd' is not defined",
     "output_type": "error",
     "traceback": [
      "\u001b[1;31m---------------------------------------------------------------------------\u001b[0m",
      "\u001b[1;31mNameError\u001b[0m                                 Traceback (most recent call last)",
      "Cell \u001b[1;32mIn[9], line 1\u001b[0m\n\u001b[1;32m----> 1\u001b[0m df_meta \u001b[38;5;241m=\u001b[39m \u001b[43mpd\u001b[49m\u001b[38;5;241m.\u001b[39mDataFrame({\n\u001b[0;32m      2\u001b[0m     \u001b[38;5;124m\"\u001b[39m\u001b[38;5;124mid\u001b[39m\u001b[38;5;124m\"\u001b[39m:\u001b[38;5;28mrange\u001b[39m(\u001b[38;5;241m10\u001b[39m),\n\u001b[0;32m      3\u001b[0m     \u001b[38;5;124m\"\u001b[39m\u001b[38;5;124mfile\u001b[39m\u001b[38;5;124m\"\u001b[39m:[\u001b[38;5;124mf\u001b[39m\u001b[38;5;124m\"\u001b[39m\u001b[38;5;124mf\u001b[39m\u001b[38;5;132;01m{\u001b[39;00mx\u001b[38;5;132;01m}\u001b[39;00m\u001b[38;5;124m\"\u001b[39m \u001b[38;5;28;01mfor\u001b[39;00m x \u001b[38;5;129;01min\u001b[39;00m \u001b[38;5;28mrange\u001b[39m(\u001b[38;5;241m10\u001b[39m)],\n\u001b[0;32m      4\u001b[0m     \u001b[38;5;124m\"\u001b[39m\u001b[38;5;124msize\u001b[39m\u001b[38;5;124m\"\u001b[39m:\u001b[38;5;28mrange\u001b[39m(\u001b[38;5;241m0\u001b[39m, \u001b[38;5;241m20\u001b[39m, \u001b[38;5;241m2\u001b[39m),\n\u001b[0;32m      5\u001b[0m     \u001b[38;5;124m\"\u001b[39m\u001b[38;5;124mimport_ts\u001b[39m\u001b[38;5;124m\"\u001b[39m:pd\u001b[38;5;241m.\u001b[39mdate_range(start\u001b[38;5;241m=\u001b[39m\u001b[38;5;124m\"\u001b[39m\u001b[38;5;124m2023-01-01\u001b[39m\u001b[38;5;124m\"\u001b[39m, periods\u001b[38;5;241m=\u001b[39m\u001b[38;5;241m10\u001b[39m, freq\u001b[38;5;241m=\u001b[39m\u001b[38;5;124m\"\u001b[39m\u001b[38;5;124m1d\u001b[39m\u001b[38;5;124m\"\u001b[39m)\n\u001b[0;32m      6\u001b[0m })\n",
      "\u001b[1;31mNameError\u001b[0m: name 'pd' is not defined"
     ]
    }
   ],
   "source": [
    "df_meta = pd.DataFrame({\n",
    "    \"id\":range(10),\n",
    "    \"file\":[f\"f{x}\" for x in range(10)],\n",
    "    \"size\":range(0, 20, 2),\n",
    "    \"import_ts\":pd.date_range(start=\"2023-01-01\", periods=10, freq=\"1d\")\n",
    "})"
   ]
  },
  {
   "cell_type": "code",
   "execution_count": 7,
   "metadata": {},
   "outputs": [
    {
     "data": {
      "text/plain": [
       "10"
      ]
     },
     "execution_count": 7,
     "metadata": {},
     "output_type": "execute_result"
    }
   ],
   "source": [
    "df_meta.to_sql(\"meta_data\", engine_items, index=False, if_exists=\"replace\")"
   ]
  },
  {
   "cell_type": "code",
   "execution_count": 15,
   "metadata": {},
   "outputs": [],
   "source": [
    "from sqlalchemy import Table, Column, Integer, String, DateTime, Enum, Text, JSON, MetaData\n",
    "\n",
    "metadata_backend = MetaData()\n",
    "metadata_items = MetaData()\n",
    "\n",
    "inventory = Table('inventory', metadata_backend,\n",
    "    Column('id', Integer, primary_key=True, autoincrement=True),\n",
    "    Column('job_identifier', String, nullable=False),\n",
    "    Column('job_result', JSON),\n",
    "    Column('processing_start', DateTime, nullable=False),\n",
    "    Column('processing_end', DateTime),\n",
    "    Column('range_id_start', Integer, nullable=False),\n",
    "    Column('range_id_end', Integer, nullable=False),\n",
    "    Column('weight', Integer, nullable=False),\n",
    "    Column('attempt', Integer, nullable=False),\n",
    "    Column('status', Enum('running', 'succeeded', 'failed'), nullable=False)\n",
    ")\n",
    "\n",
    "inventory_logs = Table('inventory_logs', metadata_backend,\n",
    "    Column('id', Integer, primary_key=True),\n",
    "    Column('attempt', Integer, primary_key=True),\n",
    "    Column('processing_start', DateTime, nullable=False),\n",
    "    Column('processing_end', DateTime),\n",
    "    Column('status', Enum('running', 'succeeded', 'failed'), nullable=False),\n",
    "    Column('logging', String),\n",
    "    Column('config', JSON)\n",
    ")\n",
    "\n",
    "items = Table('items', metadata_items,\n",
    "    Column('id', Integer, primary_key=True, autoincrement=True),\n",
    "    Column('file', Text),\n",
    "    Column('size', Integer),\n",
    "    Column('imported_ts', DateTime)\n",
    ")\n",
    "\n",
    "#items.drop(bind=engine_items)"
   ]
  },
  {
   "cell_type": "code",
   "execution_count": 16,
   "metadata": {},
   "outputs": [],
   "source": [
    "t = Table(\"items\", MetaData(), autoload_with=engine_items)"
   ]
  },
  {
   "cell_type": "code",
   "execution_count": 17,
   "metadata": {},
   "outputs": [
    {
     "data": {
      "text/plain": [
       "Table('items', MetaData(), Column('id', BIGINT(), table=<items>), Column('file', TEXT(), table=<items>), Column('size', BIGINT(), table=<items>), Column('import_ts', DATETIME(), table=<items>), schema=None)"
      ]
     },
     "execution_count": 17,
     "metadata": {},
     "output_type": "execute_result"
    }
   ],
   "source": [
    "t"
   ]
  },
  {
   "cell_type": "code",
   "execution_count": 8,
   "metadata": {},
   "outputs": [
    {
     "data": {
      "text/plain": [
       "Column('id', Integer(), table=<inventory>, primary_key=True, nullable=False)"
      ]
     },
     "execution_count": 8,
     "metadata": {},
     "output_type": "execute_result"
    }
   ],
   "source": [
    "inventory.c.id"
   ]
  },
  {
   "cell_type": "code",
   "execution_count": 6,
   "metadata": {},
   "outputs": [
    {
     "data": {
      "text/plain": [
       "type"
      ]
     },
     "execution_count": 6,
     "metadata": {},
     "output_type": "execute_result"
    }
   ],
   "source": [
    "type(MetaData)"
   ]
  },
  {
   "cell_type": "code",
   "execution_count": 7,
   "metadata": {},
   "outputs": [],
   "source": [
    "#metadata_backend.drop_all(bind=engine_backend, checkfirst=True)\n",
    "#metadata_items.drop_all(bind=engine_items, checkfirst=True)\n",
    "\n",
    "metadata_backend.create_all(bind=engine_backend, checkfirst=True)\n",
    "metadata_items.create_all(bind=engine_items, checkfirst=True)"
   ]
  },
  {
   "cell_type": "code",
   "execution_count": 27,
   "metadata": {},
   "outputs": [
    {
     "name": "stdout",
     "output_type": "stream",
     "text": [
      "id_min=0 id_max=2 weight=3.0\n"
     ]
    }
   ],
   "source": [
    "with engine_items.connect() as conn:\n",
    "    r = get_item_id_range(conn, weight=5, weight_col=\"size\")\n",
    "    print(r)"
   ]
  },
  {
   "cell_type": "code",
   "execution_count": 129,
   "metadata": {},
   "outputs": [
    {
     "name": "stdout",
     "output_type": "stream",
     "text": [
      "{'id_min': 2, 'id_max': 4, 'weight': 9}\n"
     ]
    }
   ],
   "source": [
    "with engine_items.connect() as conn:\n",
    "    r = get_item_id_range(conn, weight_col=\"size\", weight=10)\n",
    "    print(r.fetchone()._asdict())"
   ]
  },
  {
   "cell_type": "code",
   "execution_count": 89,
   "metadata": {},
   "outputs": [],
   "source": [
    "weight_col = \"size\"\n",
    "\n",
    "cumulated_sum = select(\n",
    "    items.c.id,\n",
    "    func.sum(items.c[weight_col]).over(order_by=items.c.id).label('cumsum')\n",
    ").where(\n",
    "    and_(items.c.id > 1, items.c.id < 10)\n",
    ").cte('cumulated_sum')"
   ]
  },
  {
   "cell_type": "code",
   "execution_count": 105,
   "metadata": {},
   "outputs": [],
   "source": [
    "main_query = select(\n",
    "    func.max(cumulated_sum.c.id).label('id_max'),\n",
    "    func.min(cumulated_sum.c.id).label('id_min'),\n",
    "    func.max(cumulated_sum.c.cumsum).label('weight')\n",
    ").where(\n",
    "    cumulated_sum.c.cumsum < 1\n",
    ").select_from(\n",
    "    cumulated_sum\n",
    ")"
   ]
  },
  {
   "cell_type": "code",
   "execution_count": 106,
   "metadata": {},
   "outputs": [
    {
     "name": "stdout",
     "output_type": "stream",
     "text": [
      "[(None, None, None)]\n"
     ]
    }
   ],
   "source": [
    "with engine_items.connect() as conn:\n",
    "    print(conn.execute(main_query).all())"
   ]
  },
  {
   "cell_type": "code",
   "execution_count": null,
   "metadata": {},
   "outputs": [],
   "source": [
    "Please translate the following SQL into sqlalchemy core statements:\n",
    "\n",
    "\"\"\"\n",
    "with cumulated_sum as (\n",
    "    SELECT \n",
    "        id, sum(weight_col) over (order by id) as cumsum \n",
    "    FROM \n",
    "        items\n",
    "    WHERE\n",
    "        id > 1 AND\n",
    "        id < 10\n",
    "    )\n",
    "\n",
    "SELECT \n",
    "    max(id) as id_max, \n",
    "    min(id) as id_min, \n",
    "    max(cumsum) as weight\n",
    "FROM \n",
    "    cumulated_sum\n",
    "WHERE \n",
    "    cumsum / 3 = 0\n",
    "\n",
    "\"\"\""
   ]
  },
  {
   "cell_type": "code",
   "execution_count": 69,
   "metadata": {},
   "outputs": [],
   "source": [
    "with engine_backend.connect() as conn:\n",
    "    max_item_id = get_max_item_id(\"dummy\", conn)"
   ]
  },
  {
   "cell_type": "code",
   "execution_count": 70,
   "metadata": {},
   "outputs": [
    {
     "data": {
      "text/plain": [
       "0"
      ]
     },
     "execution_count": 70,
     "metadata": {},
     "output_type": "execute_result"
    }
   ],
   "source": [
    "max_item_id"
   ]
  },
  {
   "cell_type": "code",
   "execution_count": null,
   "metadata": {},
   "outputs": [],
   "source": []
  }
 ],
 "metadata": {
  "kernelspec": {
   "display_name": "pybatchintentory_dev",
   "language": "python",
   "name": "pybatchintentory_dev"
  },
  "language_info": {
   "codemirror_mode": {
    "name": "ipython",
    "version": 3
   },
   "file_extension": ".py",
   "mimetype": "text/x-python",
   "name": "python",
   "nbconvert_exporter": "python",
   "pygments_lexer": "ipython3",
   "version": "3.10.8"
  }
 },
 "nbformat": 4,
 "nbformat_minor": 4
}
